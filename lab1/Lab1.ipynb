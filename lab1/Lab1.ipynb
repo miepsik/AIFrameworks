{
 "cells": [
  {
   "cell_type": "code",
   "execution_count": 1,
   "id": "7d635bd9",
   "metadata": {},
   "outputs": [],
   "source": [
    "import numpy as np\n",
    "import pandas as pd\n",
    "import matplotlib.pyplot as plt\n",
    "import itertools"
   ]
  },
  {
   "cell_type": "markdown",
   "id": "ad5347e0",
   "metadata": {},
   "source": [
    "Numpy jest bardzo wydajny przy odpowiednim użyciu. Dzisiaj postaramy się zgłębić w jaki sposób działa aby korzystać z niego w efektywny sposób nawet przy skomplikowanych problemach"
   ]
  },
  {
   "cell_type": "code",
   "execution_count": null,
   "id": "7887a65c",
   "metadata": {},
   "outputs": [],
   "source": [
    "%%timeit\n",
    "l = [0 for _ in range(10000)]\n",
    "for i in range(10000):\n",
    "    l[i] += 5"
   ]
  },
  {
   "cell_type": "code",
   "execution_count": null,
   "id": "e424ec65",
   "metadata": {},
   "outputs": [],
   "source": [
    "%%timeit\n",
    "l = np.zeros(10000)\n",
    "l += 5"
   ]
  },
  {
   "cell_type": "markdown",
   "id": "93b8bd2d",
   "metadata": {},
   "source": [
    "# Wstęp"
   ]
  },
  {
   "cell_type": "markdown",
   "id": "07571a50",
   "metadata": {},
   "source": [
    "Tablica w numpy to nie tylko dane. Poza blokiem w pamięci w którym przechowywane są dane mamy także metainformacje służące do wydajnego korzystania z tablicy. W szczególności jak znaleźć i interpretować element"
   ]
  },
  {
   "cell_type": "code",
   "execution_count": null,
   "id": "76bdba8b",
   "metadata": {},
   "outputs": [],
   "source": [
    "x = np.array([0,1,2,3,4.99])\n",
    "print(x.__array_interface__)\n",
    "print(x.data)\n",
    "print(x.strides)"
   ]
  },
  {
   "cell_type": "code",
   "execution_count": null,
   "id": "78abbf8a",
   "metadata": {},
   "outputs": [],
   "source": [
    "x = np.array([0,1,2,3,4], np.int8)\n",
    "print(x.__array_interface__)\n",
    "print(x.data)\n",
    "print(x.strides)"
   ]
  },
  {
   "cell_type": "markdown",
   "id": "ddcc6db5",
   "metadata": {},
   "source": [
    "#### Zad 1\n",
    "Zaimplementuj indeksację macierzy. \\\n",
    "Stwórzmy prymitywną strukturę danych przypominającą macierz numpy. Składa się ona z danych oraz wymiarów macierzy. Teraz Twoim zadaniem jest umożliwienie odwołania się do konkretnego elementu macierzy podając wiersz oraz kolumnę"
   ]
  },
  {
   "cell_type": "code",
   "execution_count": null,
   "id": "adb58e72",
   "metadata": {},
   "outputs": [],
   "source": [
    "from itertools import product\n",
    "l = list(map(lambda x: x[0] + str(x[1]), product('ABCD', np.arange(7))))\n",
    "x = {\n",
    "    'data': l,\n",
    "    'nrows': 4,\n",
    "    'ncols': 7\n",
    "}\n",
    "x"
   ]
  },
  {
   "cell_type": "code",
   "execution_count": null,
   "id": "0d17d9f1",
   "metadata": {},
   "outputs": [],
   "source": [
    "def at(x, row, col):\n",
    "    return 0 # Your code goes here"
   ]
  },
  {
   "cell_type": "code",
   "execution_count": null,
   "id": "67c0122a",
   "metadata": {},
   "outputs": [],
   "source": [
    "assert at(x, 0, 0) == 'A0'\n",
    "assert at(x, 0, 1) == 'A1'\n",
    "assert at(x, 2, 2) == 'C2'\n",
    "assert at(x, 2, 3) == 'C3'\n",
    "assert at(x, 3, 6) == 'D6'\n",
    "assert at(x, 3, 5) == 'D5'"
   ]
  },
  {
   "cell_type": "markdown",
   "id": "2cb9e6d3",
   "metadata": {},
   "source": [
    "#### Zad 2\n",
    "Świetnie, teraz spróbujemy dokonać manipulacji bez ingerencji w dane. Transpozycja to w skrócie zamienienie miejscami wierszy z kolumnami. Czy jesteś w stanie stworzyć funkcję, która bez ingerencji w danych zwróci komórkę z podanego wiersza i kolumny ale z transponowanej macierzy?"
   ]
  },
  {
   "cell_type": "code",
   "execution_count": null,
   "id": "1d1d2c2f",
   "metadata": {},
   "outputs": [],
   "source": [
    "npx = np.array(x['data']).reshape(x['nrows'], x['ncols'])\n",
    "npx"
   ]
  },
  {
   "cell_type": "code",
   "execution_count": null,
   "id": "f8953aab",
   "metadata": {},
   "outputs": [],
   "source": [
    "npx.T"
   ]
  },
  {
   "cell_type": "code",
   "execution_count": null,
   "id": "69f112f4",
   "metadata": {},
   "outputs": [],
   "source": [
    "npx.T[1,3]"
   ]
  },
  {
   "cell_type": "code",
   "execution_count": null,
   "id": "799b46df",
   "metadata": {},
   "outputs": [],
   "source": [
    "npx.T[2,0]"
   ]
  },
  {
   "cell_type": "code",
   "execution_count": null,
   "id": "6b61dcec",
   "metadata": {},
   "outputs": [],
   "source": [
    "def atTransposed(x, row, col):\n",
    "    pass # Miejsce na implementację"
   ]
  },
  {
   "cell_type": "code",
   "execution_count": null,
   "id": "0e9c2da1",
   "metadata": {},
   "outputs": [],
   "source": [
    "assert atTransposed(x, 1, 3) == 'D1'\n",
    "assert atTransposed(x, 2, 0) == 'A2'"
   ]
  },
  {
   "cell_type": "markdown",
   "id": "2cc77782",
   "metadata": {},
   "source": [
    "Udało nam się transponować macierz bez ingerencji w dane. Operacja ta będzie działać bardzo szybko niezależnie od rozmiarów macierzy. Poniżej pokazuję ciekawostkę aby pokazać, że numpy rzeczywiście działa niskopoziomowo w zbliżony sposób do tego przedstawionego powyżej"
   ]
  },
  {
   "cell_type": "code",
   "execution_count": null,
   "id": "f4382fef",
   "metadata": {},
   "outputs": [],
   "source": [
    "x = np.array([0,1,2,3], dtype=np.int8)\n",
    "x"
   ]
  },
  {
   "cell_type": "code",
   "execution_count": null,
   "id": "ff131d98",
   "metadata": {},
   "outputs": [],
   "source": [
    "x.dtype = \"<i2\""
   ]
  },
  {
   "cell_type": "code",
   "execution_count": null,
   "id": "2193bb7b",
   "metadata": {},
   "outputs": [],
   "source": [
    "x"
   ]
  },
  {
   "cell_type": "code",
   "execution_count": null,
   "id": "9b0484cb",
   "metadata": {},
   "outputs": [],
   "source": [
    "0x0100, 0x0302"
   ]
  },
  {
   "cell_type": "markdown",
   "id": "161cdb33",
   "metadata": {},
   "source": [
    "Nakazaliśmy inną interpretację danych i rzeczywiście się to stało bez żadnej ingerencji w bitowy zapis samych danych"
   ]
  },
  {
   "cell_type": "markdown",
   "id": "909e9372",
   "metadata": {},
   "source": [
    "## Widoki\n",
    "Dzięki takiemu podejściu możliwe jest dzielenie danych przez kilka tablic, co pozwala na oszczędność pamięci"
   ]
  },
  {
   "cell_type": "code",
   "execution_count": null,
   "id": "f9c4e21b",
   "metadata": {},
   "outputs": [],
   "source": [
    "x = np.array([0,1,2,3], dtype=np.int8)\n",
    "x"
   ]
  },
  {
   "cell_type": "code",
   "execution_count": null,
   "id": "b79a33a2",
   "metadata": {},
   "outputs": [],
   "source": [
    "y = x.view()\n",
    "y"
   ]
  },
  {
   "cell_type": "code",
   "execution_count": null,
   "id": "b6314635",
   "metadata": {},
   "outputs": [],
   "source": [
    "x[0] = 2\n",
    "y"
   ]
  },
  {
   "cell_type": "code",
   "execution_count": null,
   "id": "e3b55904",
   "metadata": {},
   "outputs": [],
   "source": [
    "y.dtype = \"<i2\"\n",
    "y"
   ]
  },
  {
   "cell_type": "code",
   "execution_count": null,
   "id": "193160cc",
   "metadata": {},
   "outputs": [],
   "source": [
    "x"
   ]
  },
  {
   "cell_type": "code",
   "execution_count": null,
   "id": "7c349b6a",
   "metadata": {},
   "outputs": [],
   "source": [
    "x[1] = 3\n",
    "x"
   ]
  },
  {
   "cell_type": "code",
   "execution_count": null,
   "id": "c8c17346",
   "metadata": {},
   "outputs": [],
   "source": [
    "y"
   ]
  },
  {
   "cell_type": "code",
   "execution_count": null,
   "id": "0f74f4e0",
   "metadata": {},
   "outputs": [],
   "source": [
    "y[1] = 356\n",
    "y"
   ]
  },
  {
   "cell_type": "code",
   "execution_count": null,
   "id": "84696941",
   "metadata": {},
   "outputs": [],
   "source": [
    "x"
   ]
  },
  {
   "cell_type": "markdown",
   "id": "8323cfcc",
   "metadata": {},
   "source": [
    "## Strides"
   ]
  },
  {
   "cell_type": "code",
   "execution_count": null,
   "id": "78a48643",
   "metadata": {},
   "outputs": [],
   "source": [
    "x = np.arange(9, dtype=np.int8)\n",
    "x"
   ]
  },
  {
   "cell_type": "code",
   "execution_count": null,
   "id": "a5e14ea4",
   "metadata": {},
   "outputs": [],
   "source": [
    "x.tobytes()"
   ]
  },
  {
   "cell_type": "code",
   "execution_count": null,
   "id": "5e606585",
   "metadata": {},
   "outputs": [],
   "source": [
    "x.strides"
   ]
  },
  {
   "cell_type": "code",
   "execution_count": null,
   "id": "341ca8e4",
   "metadata": {},
   "outputs": [],
   "source": [
    "x = x.reshape(3,3)\n",
    "x"
   ]
  },
  {
   "cell_type": "code",
   "execution_count": null,
   "id": "d23e4b93",
   "metadata": {},
   "outputs": [],
   "source": [
    "x.tobytes()"
   ]
  },
  {
   "cell_type": "code",
   "execution_count": null,
   "id": "68ffb89f",
   "metadata": {},
   "outputs": [],
   "source": [
    "x.strides"
   ]
  },
  {
   "cell_type": "markdown",
   "id": "e79f32d0",
   "metadata": {},
   "source": [
    "Atrybut strides w połączeniu z wymiarami tablicy pozwala się po niej poruszać i odwołać do konkretnego elementu. Tutaj mamy już wykorzystanie niskopoziomowej reprezentacji - dowiadujemy się o ile bajtów musimy się przesunąć, aby przejść do kolejnego elementu w danym wymiarze"
   ]
  },
  {
   "cell_type": "code",
   "execution_count": null,
   "id": "5f66894d",
   "metadata": {},
   "outputs": [],
   "source": [
    "x = np.arange(9, dtype=np.int16).reshape(3,3)\n",
    "x"
   ]
  },
  {
   "cell_type": "code",
   "execution_count": null,
   "id": "4cc5df93",
   "metadata": {},
   "outputs": [],
   "source": [
    "x.tobytes()"
   ]
  },
  {
   "cell_type": "code",
   "execution_count": null,
   "id": "398963d2",
   "metadata": {},
   "outputs": [],
   "source": [
    "x.strides"
   ]
  },
  {
   "cell_type": "code",
   "execution_count": null,
   "id": "b9861ee5",
   "metadata": {},
   "outputs": [],
   "source": [
    "x = np.arange(9, dtype=np.int16)\n",
    "x.strides"
   ]
  },
  {
   "cell_type": "code",
   "execution_count": null,
   "id": "b6bb670a",
   "metadata": {},
   "outputs": [],
   "source": [
    "y = x[::-1]\n",
    "y"
   ]
  },
  {
   "cell_type": "code",
   "execution_count": null,
   "id": "f53eed39",
   "metadata": {},
   "outputs": [],
   "source": [
    "y.strides"
   ]
  },
  {
   "cell_type": "markdown",
   "id": "f9c0d121",
   "metadata": {},
   "source": [
    "Jak widać nadal różnego rodzaju modyfikacje odbywają się nie poprzez ingerencję w dane a w metainformacje"
   ]
  },
  {
   "cell_type": "code",
   "execution_count": null,
   "id": "a3493aee",
   "metadata": {
    "scrolled": true
   },
   "outputs": [],
   "source": [
    "from numpy.lib.stride_tricks import as_strided\n",
    "help(as_strided)"
   ]
  },
  {
   "cell_type": "markdown",
   "id": "9c0c92a3",
   "metadata": {},
   "source": [
    "Za pomocą funkcji as_strided możemy utworzyć nowy widok na tablicę o określonych przez nas atrybutach strides oraz wymiarach"
   ]
  },
  {
   "cell_type": "code",
   "execution_count": null,
   "id": "2153a9a1",
   "metadata": {},
   "outputs": [],
   "source": [
    "x = np.arange(9, dtype=np.int16)\n",
    "as_strided(x, shape=(3,), strides=(4,))"
   ]
  },
  {
   "cell_type": "code",
   "execution_count": null,
   "id": "a1b66464",
   "metadata": {},
   "outputs": [],
   "source": [
    "as_strided(x[1:], (3,), (6,))"
   ]
  },
  {
   "cell_type": "code",
   "execution_count": null,
   "id": "00975d1d",
   "metadata": {},
   "outputs": [],
   "source": [
    "x = np.arange(36, dtype=np.int32).reshape(6, 6)\n",
    "x"
   ]
  },
  {
   "cell_type": "markdown",
   "id": "10db4dd4",
   "metadata": {},
   "source": [
    "#### Zad 3\n",
    "Korzystając z funkcji as_strided utwórz spodziewane widoki"
   ]
  },
  {
   "cell_type": "code",
   "execution_count": null,
   "id": "9b71108c",
   "metadata": {},
   "outputs": [],
   "source": [
    "expected = np.array([0,1,2,3])\n",
    "expected"
   ]
  },
  {
   "cell_type": "code",
   "execution_count": null,
   "id": "d7b334d9",
   "metadata": {},
   "outputs": [],
   "source": [
    "y = as_strided(x, (1,), (1,)) # Do implementacji\n",
    "assert (y == expected).all()"
   ]
  },
  {
   "cell_type": "code",
   "execution_count": null,
   "id": "3f21145c",
   "metadata": {},
   "outputs": [],
   "source": [
    "expected = np.array([0,7,14,21,28,35])\n",
    "expected"
   ]
  },
  {
   "cell_type": "code",
   "execution_count": null,
   "id": "cb26e3e8",
   "metadata": {},
   "outputs": [],
   "source": [
    "y = as_strided(x, (1,), (1,)) # Do implementacji\n",
    "assert (y == expected).all()"
   ]
  },
  {
   "cell_type": "code",
   "execution_count": null,
   "id": "b3d3b28f",
   "metadata": {},
   "outputs": [],
   "source": [
    "expected = np.array([\n",
    "    [0,2],\n",
    "    [7,9],\n",
    "    [14,16]])\n",
    "expected"
   ]
  },
  {
   "cell_type": "code",
   "execution_count": null,
   "id": "38a3bcea",
   "metadata": {},
   "outputs": [],
   "source": [
    "y = as_strided(x, (1,), (1,)) # Do implementacji\n",
    "assert (y == expected).all()"
   ]
  },
  {
   "cell_type": "code",
   "execution_count": null,
   "id": "01d19e85",
   "metadata": {},
   "outputs": [],
   "source": [
    "expected = np.array([\n",
    "    [0,0,0],\n",
    "    [12,12,12],\n",
    "    [24,24,24]])\n",
    "expected"
   ]
  },
  {
   "cell_type": "code",
   "execution_count": null,
   "id": "1dbc43c3",
   "metadata": {},
   "outputs": [],
   "source": [
    "y = as_strided(x, (1,), (1,)) # Do implementacji\n",
    "assert (y == expected).all()"
   ]
  },
  {
   "cell_type": "code",
   "execution_count": null,
   "id": "c7776adf",
   "metadata": {},
   "outputs": [],
   "source": [
    "expected = np.array([np.arange(12).reshape(2,6)+x*6 for x in range(3)])\n",
    "expected"
   ]
  },
  {
   "cell_type": "code",
   "execution_count": null,
   "id": "4a5143cf",
   "metadata": {},
   "outputs": [],
   "source": [
    "y = as_strided(x, (1,), (1,)) # Do implementacji\n",
    "assert (y == expected).all()"
   ]
  },
  {
   "cell_type": "markdown",
   "id": "78055fc2",
   "metadata": {},
   "source": [
    "### Ciekawostka"
   ]
  },
  {
   "cell_type": "code",
   "execution_count": null,
   "id": "ffbaa9de",
   "metadata": {},
   "outputs": [],
   "source": [
    "x = np.random.randn(10000)\n",
    "y = np.random.randn(10000*33)[::33]"
   ]
  },
  {
   "cell_type": "code",
   "execution_count": null,
   "id": "277c3855",
   "metadata": {},
   "outputs": [],
   "source": [
    "x.shape, y.shape"
   ]
  },
  {
   "cell_type": "code",
   "execution_count": null,
   "id": "55434f7c",
   "metadata": {},
   "outputs": [],
   "source": [
    "x.strides, y.strides"
   ]
  },
  {
   "cell_type": "code",
   "execution_count": null,
   "id": "7831c84f",
   "metadata": {},
   "outputs": [],
   "source": [
    "%timeit x.sum()"
   ]
  },
  {
   "cell_type": "code",
   "execution_count": null,
   "id": "a55f5df2",
   "metadata": {},
   "outputs": [],
   "source": [
    "%timeit y.sum()"
   ]
  },
  {
   "cell_type": "markdown",
   "id": "2314a309",
   "metadata": {},
   "source": [
    "Dlaczego sumowanie y zajmuje dłużej? Podpowiedź: cache procesora"
   ]
  },
  {
   "cell_type": "markdown",
   "id": "b1414e8c",
   "metadata": {},
   "source": [
    "Nieco wygodniejszym w zastosowaniu przez działanie na wyższym poziomie abstrakcji jest sliding_window_view"
   ]
  },
  {
   "cell_type": "code",
   "execution_count": null,
   "id": "c13e2463",
   "metadata": {},
   "outputs": [],
   "source": [
    "from numpy.lib.stride_tricks import sliding_window_view"
   ]
  },
  {
   "cell_type": "code",
   "execution_count": null,
   "id": "6247bdfd",
   "metadata": {},
   "outputs": [],
   "source": [
    "x = np.arange(10000)"
   ]
  },
  {
   "cell_type": "code",
   "execution_count": null,
   "id": "56d1f160",
   "metadata": {},
   "outputs": [],
   "source": [
    "y = sliding_window_view(x, 50)\n",
    "y"
   ]
  },
  {
   "cell_type": "code",
   "execution_count": null,
   "id": "bffab9d6",
   "metadata": {},
   "outputs": [],
   "source": [
    "y.shape, y.strides"
   ]
  },
  {
   "cell_type": "markdown",
   "id": "2670e18c",
   "metadata": {},
   "source": [
    "Za jej pomocą można policzyć np średnią kroczącą w bardzo wydajny sposób"
   ]
  },
  {
   "cell_type": "code",
   "execution_count": null,
   "id": "6f82b5e8",
   "metadata": {},
   "outputs": [],
   "source": [
    "%timeit y.mean(1)"
   ]
  },
  {
   "cell_type": "markdown",
   "id": "d75abe3b",
   "metadata": {},
   "source": [
    "Ciekawostka: akurat ten efekt można osiągnąć wykorzystując funkcję splotu"
   ]
  },
  {
   "cell_type": "code",
   "execution_count": null,
   "id": "5ce3433a",
   "metadata": {},
   "outputs": [],
   "source": [
    "%timeit np.convolve(x, np.ones(50)/50, 'valid')"
   ]
  },
  {
   "cell_type": "markdown",
   "id": "58f7f830",
   "metadata": {},
   "source": [
    "#### Zad4\n",
    "Zabierzmy się zatem za coś trudniejszego, czego nie idzie tak łatwo osiągnąć konwolucją, a do czego idealnie nadaje się sliding_window_view. \\\n",
    "Wyobraźmy sobie, że monitorujesz rurociąg transportujący ropę. Dane ciśnienia z punktu pomiarowego masz w zmiennej $x$. Zmienna $y$ z kolei zawiera wzorzec zdarzenia wyciekowego. Aby określić czy zaszedł wyciek należy policzyć korelację ze zdefiniowanym wzorcem. Znajdź 4 rozłączne fragmenty szeregu $x$ o długości 50 z najwyższą korelacją z zadanym wzorcem $y$ - czyli fragmenty podejrzane o bycie wyciekiem"
   ]
  },
  {
   "cell_type": "code",
   "execution_count": null,
   "id": "e99c4a18",
   "metadata": {},
   "outputs": [],
   "source": [
    "x = np.sin(np.linspace(17, 29, 100000)) + np.sin(np.linspace(0, 1000, 100000)) + np.sin(np.linspace(13, 1500, 100000)) + np.cos(np.linspace(2,173, 100000))\n",
    "plt.plot(x)"
   ]
  },
  {
   "cell_type": "code",
   "execution_count": null,
   "id": "9e340774",
   "metadata": {},
   "outputs": [],
   "source": [
    "y = np.linspace(-1.5,1.5,50)**2"
   ]
  },
  {
   "cell_type": "markdown",
   "id": "65df3da8",
   "metadata": {},
   "source": [
    "Pomocniczo zaimplementuj funkcję, która mając daną 2 wymiarową macierz oraz wzorzec liczy korelację pearsona wzorca z każdym wierszem macierzy"
   ]
  },
  {
   "cell_type": "code",
   "execution_count": null,
   "id": "9da8b493",
   "metadata": {},
   "outputs": [],
   "source": []
  },
  {
   "cell_type": "code",
   "execution_count": null,
   "id": "c1674f2d",
   "metadata": {},
   "outputs": [],
   "source": []
  },
  {
   "cell_type": "markdown",
   "id": "59269e81",
   "metadata": {},
   "source": [
    "## Obliczenia"
   ]
  },
  {
   "cell_type": "code",
   "execution_count": null,
   "id": "7f5d54f0",
   "metadata": {},
   "outputs": [],
   "source": [
    "np.random.seed(44)\n",
    "df = pd.DataFrame({'pActive': np.random.rand(13), 'popularity': np.random.rand(13)})\n",
    "df"
   ]
  },
  {
   "cell_type": "markdown",
   "id": "a28a5e5e",
   "metadata": {},
   "source": [
    "Rozważmy uproszczoną modelową sytuację wyboru np prezydenta miasta. W naszym przypadku mamy 12 potencjalnych kandydatów. Każdy z nich ma przypisane prawdopodobieństwo $pActive$ określające szanse na wystartowanie w wyborach - składa się na to np szansa na zebranie podpisów, bycie wystawionym przez swój komitet itp. Poza tym określiliśmy też popularność każdego kandydata. Prawdopodobieństwo wygrania wyborów jest równe stosunkowi jego popularności do sumy popularności wszystkich aktywnych kandydatów biorących udział w wyborach.\n",
    "#### Zad 5\n",
    "Dla każdego kandydata policz prawdopodobieństwo wygranej. Postaraj się skorzystać jak najbardziej z wydajności numpy i przyspiesz obliczenia"
   ]
  },
  {
   "cell_type": "markdown",
   "id": "1f57e29e",
   "metadata": {},
   "source": [
    "Przykładowo dla dwóch potencjalnych kandydatów o pActive 0.7 i 0.2 oraz popularity 0.1 i 0.4 mamy 4 możliwe sytuacje:\n",
    " - nikt nie wystartuje w wyborach prawdopodobieństwo (1-0.7) * (1-0.2) = 0.24\n",
    " - wystartuje tylko kandydat 1 prawdopodobieństwo 0.7 * (1-0.2) = 0.56\n",
    " - wystartuje tylko kandydat 2 prawdopodobieństwo (1-0.7) * 0.2 = 0.06\n",
    " - wystartują obaj 0.7 * 0.2 = 0.14\n",
    "\n",
    "W pierwszej sytuacji nie wygra nikt, w drugiej i trzeciej na 100% wygra jedyny kandydat, w ostatniej na 20% wygra kandydat pierwszy i na 80% kandydat drugi. Ostateczne prawdopodobieństwo wygranej to:\n",
    "- dla kandydata 1: 0.56 * 100% + 0.14 * 20% = 58.8%\n",
    "- dla kandydata 2: 0.06 * 100% + 0.14 * 80% = 17.2%"
   ]
  },
  {
   "cell_type": "code",
   "execution_count": null,
   "id": "73aa5bb3",
   "metadata": {},
   "outputs": [],
   "source": [
    "def getP(df):\n",
    "    return 0"
   ]
  },
  {
   "cell_type": "code",
   "execution_count": null,
   "id": "8e193445",
   "metadata": {},
   "outputs": [],
   "source": [
    "getP(df)"
   ]
  },
  {
   "cell_type": "markdown",
   "id": "3fdbe7bb",
   "metadata": {},
   "source": [
    "## Pandas"
   ]
  },
  {
   "cell_type": "markdown",
   "id": "168f4f77",
   "metadata": {},
   "source": [
    "Na zajęciach będziemy wykorzystywać okrojony i zmodyfikowany zbiór danych Million Song Dataset (MSD)\n",
    " * unique_tracks.txt – zawiera informacje takie jak identyfikator utworu, identyfikator wykonania, nazwę artysty oraz tytuł utworu, https://www.cs.put.poznan.pl/kdembczynski/lectures/data/unique_tracks.zip\n",
    " * triplets_sample_20p.txt – zawiera identyfikator użytkownika, identyfikator utworu oraz datę odsłuchania. https://www.cs.put.poznan.pl/kdembczynski/lectures/data/triplets_sample_20p.zip"
   ]
  },
  {
   "cell_type": "code",
   "execution_count": null,
   "id": "582fe98e",
   "metadata": {},
   "outputs": [],
   "source": [
    "import pandas as pd"
   ]
  },
  {
   "cell_type": "markdown",
   "id": "4d8d3cd2",
   "metadata": {},
   "source": [
    "#### Zad\n",
    "Podaj 10 najpopularniejszych utworów wraz z artystą i liczbą odsłuchań"
   ]
  },
  {
   "cell_type": "code",
   "execution_count": null,
   "id": "1664d16e",
   "metadata": {},
   "outputs": [],
   "source": []
  },
  {
   "cell_type": "markdown",
   "id": "710acfd0",
   "metadata": {},
   "source": [
    "#### Zad\n",
    "Podaj 10 użytkowników z największą liczbą odtworzonych unikatowych utworów"
   ]
  },
  {
   "cell_type": "code",
   "execution_count": null,
   "id": "fc323f83",
   "metadata": {},
   "outputs": [],
   "source": []
  },
  {
   "cell_type": "markdown",
   "id": "df8211d8",
   "metadata": {},
   "source": [
    "#### Zad\n",
    "Który artysta ma najwięcej odtworzeń i ile?"
   ]
  },
  {
   "cell_type": "code",
   "execution_count": null,
   "id": "36963dc3",
   "metadata": {},
   "outputs": [],
   "source": []
  },
  {
   "cell_type": "markdown",
   "id": "894d75b6",
   "metadata": {},
   "source": [
    "#### Zad\n",
    "Podaj sumaryczną liczbę odsłuchań w poszczególnych miesiącach"
   ]
  },
  {
   "cell_type": "code",
   "execution_count": null,
   "id": "40a9656f",
   "metadata": {},
   "outputs": [],
   "source": []
  },
  {
   "cell_type": "markdown",
   "id": "6ef69467",
   "metadata": {},
   "source": [
    "#### Zad\n",
    "Podaj wszystkich użytkowników, którzy odsłuchali wszystki trzy najpopularniejsze utwory zespołu Queen"
   ]
  },
  {
   "cell_type": "code",
   "execution_count": null,
   "id": "d0ab671f",
   "metadata": {},
   "outputs": [],
   "source": []
  },
  {
   "cell_type": "code",
   "execution_count": null,
   "id": "6d9eb426",
   "metadata": {},
   "outputs": [],
   "source": []
  },
  {
   "cell_type": "markdown",
   "id": "29b9a630",
   "metadata": {},
   "source": [
    "https://www.cs.put.poznan.pl/kdembczynski/lectures/mmds/\n",
    "https://scipy-lectures.org/advanced/index.html"
   ]
  }
 ],
 "metadata": {
  "kernelspec": {
   "display_name": "Python 3 (ipykernel)",
   "language": "python",
   "name": "python3"
  },
  "language_info": {
   "codemirror_mode": {
    "name": "ipython",
    "version": 3
   },
   "file_extension": ".py",
   "mimetype": "text/x-python",
   "name": "python",
   "nbconvert_exporter": "python",
   "pygments_lexer": "ipython3",
   "version": "3.9.12"
  }
 },
 "nbformat": 4,
 "nbformat_minor": 5
}
