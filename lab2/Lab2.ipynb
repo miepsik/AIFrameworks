{
 "cells": [
  {
   "cell_type": "markdown",
   "id": "e1f3d86e",
   "metadata": {},
   "source": [
    "\n",
    "Podczas tych zajęć skupimy się na wyjaśnialności modelu. Często w praktyce głównym celem nie jest zbudowanie dobrego modelu uczenia maszynowego. To co jest potrzebne to zrozumienie danych. Fabryka chce wiedzieć dlaczego w produkcie pojawia się defekt a nie tylko być w stanie go przewidzieć. Trener piłkarski chce wiedzieć które czynniki zwiększają szansę na zdobycie gola, a nie tylko jaka jest szansa celnego strzału w danej sytuacji. Do tego w wielu przypadkach w których chodzi głównie o samą predykcję wyjaśnialność jest również bardzo mile widzianym dodatkiem. Często dobry wykres jest wart więcej niż zaawansowany model uczenia maszynowego"
   ]
  },
  {
   "cell_type": "code",
   "execution_count": null,
   "id": "0cf435ee",
   "metadata": {},
   "outputs": [],
   "source": [
    "import pandas as pd\n",
    "import numpy as np\n",
    "import dalex as dx\n",
    "import matplotlib.pyplot as plt\n",
    "\n",
    "from sklearn.ensemble import RandomForestRegressor\n",
    "from sklearn.pipeline import Pipeline\n",
    "from sklearn.base import BaseEstimator, TransformerMixin\n",
    "from sklearn.compose import ColumnTransformer\n",
    "from sklearn.preprocessing import OneHotEncoder\n",
    "from sklearn.impute import SimpleImputer\n",
    "from sklearn.model_selection import train_test_split, RandomizedSearchCV\n",
    "\n",
    "from sklearn.metrics import mean_absolute_error, mean_absolute_percentage_error\n",
    "\n",
    "%matplotlib inline"
   ]
  },
  {
   "cell_type": "code",
   "execution_count": null,
   "id": "e6c8c5d1",
   "metadata": {},
   "outputs": [],
   "source": [
    "df = pd.read_csv('https://raw.githubusercontent.com/ageron/handson-ml2/master/datasets/housing/housing.tgz', compression='gzip', nrows=20640)\n",
    "df.rename({'housing.csv': 'longitude'}, inplace=True, axis=1)\n",
    "df"
   ]
  },
  {
   "cell_type": "markdown",
   "id": "9553dc6b",
   "metadata": {},
   "source": [
    "## Analiza danych"
   ]
  },
  {
   "cell_type": "markdown",
   "id": "0562bb96",
   "metadata": {},
   "source": [
    "Pierwszym krokiem powinna być analiza danych (EDA - Expolratory Data Analysis). W tym celu można posługiwać się zarówno różnego rodzaju statystykami jak i grafikami"
   ]
  },
  {
   "cell_type": "code",
   "execution_count": null,
   "id": "165414cb",
   "metadata": {},
   "outputs": [],
   "source": [
    "df.isna().mean(0)"
   ]
  },
  {
   "cell_type": "code",
   "execution_count": null,
   "id": "0c6a4814",
   "metadata": {},
   "outputs": [],
   "source": [
    "df.describe()"
   ]
  },
  {
   "cell_type": "code",
   "execution_count": null,
   "id": "cda843be",
   "metadata": {},
   "outputs": [],
   "source": [
    "df.hist(figsize=(15,15))"
   ]
  },
  {
   "cell_type": "code",
   "execution_count": null,
   "id": "d0025e22",
   "metadata": {},
   "outputs": [],
   "source": [
    "df.corr()"
   ]
  },
  {
   "cell_type": "code",
   "execution_count": null,
   "id": "6ccd8358",
   "metadata": {},
   "outputs": [],
   "source": [
    "pd.plotting.scatter_matrix(df, figsize=(25,25))\n",
    "plt.show()"
   ]
  },
  {
   "cell_type": "code",
   "execution_count": null,
   "id": "b2c69d82",
   "metadata": {},
   "outputs": [],
   "source": [
    "plt.scatter(df.longitude, df.latitude)"
   ]
  },
  {
   "cell_type": "markdown",
   "id": "e0f83878",
   "metadata": {},
   "source": [
    "Przy tego typu wykresach punkty często nachodzą na siebie. Aby uzykać pełniejszy obraz warto skorzystać z parametru alpha"
   ]
  },
  {
   "cell_type": "code",
   "execution_count": null,
   "id": "ab68e010",
   "metadata": {},
   "outputs": [],
   "source": [
    "plt.scatter(df.longitude, df.latitude, alpha=.1)"
   ]
  },
  {
   "cell_type": "markdown",
   "id": "c0eb0fc1",
   "metadata": {},
   "source": [
    "Warto też wykorzystać dodatkową przestrzeń na przekazanie informacji niż tylko wymiar x i y. Możemy zaingerować w rozmiar punktu czy jego odcień"
   ]
  },
  {
   "cell_type": "code",
   "execution_count": null,
   "id": "07b5ca5d",
   "metadata": {},
   "outputs": [],
   "source": [
    "fig, ax = plt.subplots(figsize=(15,10))\n",
    "s = ax.scatter(df.longitude, df.latitude, c=df.median_house_value, s=df.population/20, label='population', alpha=.05)\n",
    "cb = fig.colorbar(s)\n",
    "cb.solids.set(alpha=1)\n",
    "fig.legend()\n",
    "fig.show()"
   ]
  },
  {
   "cell_type": "markdown",
   "id": "75b82517",
   "metadata": {},
   "source": [
    "## Przetwarzanie danych"
   ]
  },
  {
   "cell_type": "code",
   "execution_count": null,
   "id": "2d444c1d",
   "metadata": {},
   "outputs": [],
   "source": [
    "df"
   ]
  },
  {
   "cell_type": "markdown",
   "id": "2f381fa8",
   "metadata": {},
   "source": [
    "Warto zacząć od podziału danych na zbiór treningowy i testowy aby uniknąć potencjalnego przecieku danych"
   ]
  },
  {
   "cell_type": "code",
   "execution_count": null,
   "id": "397358d7",
   "metadata": {},
   "outputs": [],
   "source": [
    "X = df.drop('median_house_value', axis=1)\n",
    "Y = df['median_house_value']\n",
    "trainX, testX, trainY, testY = train_test_split(X, Y, test_size=.2)\n",
    "trainX.shape, testX.shape"
   ]
  },
  {
   "cell_type": "markdown",
   "id": "307e1784",
   "metadata": {},
   "source": [
    "W celu przetwarzania danych dobrze jest wykorzystać pipeliny sklearnowe. Dzięki spójnemu API można połączyć różne techniki przetwarzania danych w jeden obiekt, którym łatwiej później zarządzać oraz go wykorzystywać"
   ]
  },
  {
   "cell_type": "code",
   "execution_count": null,
   "id": "343e1f5b",
   "metadata": {},
   "outputs": [],
   "source": [
    "imputer = SimpleImputer()\n",
    "imputer.fit_transform(df[['total_bedrooms']])"
   ]
  },
  {
   "cell_type": "markdown",
   "id": "755a7bab",
   "metadata": {},
   "source": [
    "Można też definiować swoje transformatory, które są zgodne z api sklearna, dzięki czemu mogą być wykorzystywane w analogiczny sposób i łączone"
   ]
  },
  {
   "cell_type": "code",
   "execution_count": null,
   "id": "44233470",
   "metadata": {},
   "outputs": [],
   "source": [
    "class PerHouseholdsAttributesAdder(BaseEstimator, TransformerMixin):\n",
    "    def __init__(self,):\n",
    "        pass\n",
    "    def fit(self, X, y=None):\n",
    "        return self  # nothing else to do\n",
    "    def transform(self, X):\n",
    "        return X.assign(roomsPerHouseholds=X.total_rooms/X.households,\n",
    "                        bedroomsPerHouseholds=X.total_bedrooms/X.households,\n",
    "                        populationPerHouseholds=X.population/X.households)\n",
    "\n",
    "attr_adder = PerHouseholdsAttributesAdder()\n",
    "attr_adder.transform(df)"
   ]
  },
  {
   "cell_type": "code",
   "execution_count": null,
   "id": "a324af35",
   "metadata": {},
   "outputs": [],
   "source": [
    "numCols = list(trainX.columns)\n",
    "numCols.remove('ocean_proximity')"
   ]
  },
  {
   "cell_type": "markdown",
   "id": "967ff9d2",
   "metadata": {},
   "source": [
    "Poza klasycznym pipelinem, gdzie wyjście z poprzedniego kroku jest przekazywane do następnego można skorzystać również z ColumnTransformera, gdzie określamy które kolumny mają zostać użyte. Pipeliny można dowolnie zagnieżdżać - jeden pipeline może być elementem drugiego"
   ]
  },
  {
   "cell_type": "code",
   "execution_count": null,
   "id": "6e8264e6",
   "metadata": {},
   "outputs": [],
   "source": [
    "numTransformer = Pipeline([\n",
    "    ('imputer', SimpleImputer().set_output(transform=\"pandas\")),\n",
    "    ('addColumns', PerHouseholdsAttributesAdder())\n",
    "])\n",
    "\n",
    "preprocessing = ColumnTransformer([\n",
    "        (\"numerical\", numTransformer, numCols),\n",
    "        (\"ohe\", OneHotEncoder(), ['ocean_proximity']),\n",
    "    ])\n",
    "\n",
    "preprocessing.fit_transform(trainX)"
   ]
  },
  {
   "cell_type": "code",
   "execution_count": null,
   "id": "963157d1",
   "metadata": {},
   "outputs": [],
   "source": [
    "preprocessing.transform(testX)"
   ]
  },
  {
   "cell_type": "markdown",
   "id": "0f05311b",
   "metadata": {},
   "source": [
    "#### Zad \n",
    "Wytrenuj adekwatny model i zwaliduj jego jakość"
   ]
  },
  {
   "cell_type": "code",
   "execution_count": null,
   "id": "09a4870c",
   "metadata": {},
   "outputs": [],
   "source": []
  },
  {
   "cell_type": "code",
   "execution_count": null,
   "id": "bf89e06d",
   "metadata": {},
   "outputs": [],
   "source": []
  },
  {
   "cell_type": "code",
   "execution_count": null,
   "id": "b102a449",
   "metadata": {},
   "outputs": [],
   "source": []
  },
  {
   "cell_type": "markdown",
   "id": "d1b23707",
   "metadata": {},
   "source": [
    "#### Zad\n",
    "Dodaj model jako ostatni element pipelinu"
   ]
  },
  {
   "cell_type": "code",
   "execution_count": null,
   "id": "26ddbc48",
   "metadata": {},
   "outputs": [],
   "source": []
  },
  {
   "cell_type": "code",
   "execution_count": null,
   "id": "5f0ea5c4",
   "metadata": {},
   "outputs": [],
   "source": []
  },
  {
   "cell_type": "code",
   "execution_count": null,
   "id": "86b1f4df",
   "metadata": {},
   "outputs": [],
   "source": []
  },
  {
   "cell_type": "markdown",
   "id": "39584eeb",
   "metadata": {},
   "source": [
    "#### Zad\n",
    "Na takim pipelinie można przeprowadzić teraz optymalizację hiperparametrów. Postaraj się uzyskać jak najlepszy wyniki. Zaingeruj nie tylko w model ale też w sam preprocessing"
   ]
  },
  {
   "cell_type": "code",
   "execution_count": null,
   "id": "112bf8ef",
   "metadata": {},
   "outputs": [],
   "source": [
    "fullPipeline.get_params().keys()"
   ]
  },
  {
   "cell_type": "code",
   "execution_count": null,
   "id": "2a3b9914",
   "metadata": {},
   "outputs": [],
   "source": [
    "param_dist = {\n",
    "          'model__n_estimators': np.arange(10,30), \n",
    "          'preprocessing__numerical__imputer__strategy': ['mean', 'median'],\n",
    "}"
   ]
  },
  {
   "cell_type": "code",
   "execution_count": null,
   "id": "607fd0b5",
   "metadata": {},
   "outputs": [],
   "source": []
  },
  {
   "cell_type": "markdown",
   "id": "b3ff44c5",
   "metadata": {},
   "source": [
    "## Wyjaśnialność"
   ]
  },
  {
   "cell_type": "markdown",
   "id": "564d4ab7",
   "metadata": {},
   "source": [
    "Dalex to pakiet pythonowy służący do wyjaśnialności modeli. Użyjemy go, żeby zrozumieć lepiej dane i model. Na początku musimy wytworzyć obiekt Explainer"
   ]
  },
  {
   "cell_type": "code",
   "execution_count": null,
   "id": "4522325a",
   "metadata": {},
   "outputs": [],
   "source": [
    "exp = dx.Explainer(res.best_estimator_, trainX, trainY)"
   ]
  },
  {
   "cell_type": "code",
   "execution_count": null,
   "id": "f0296fb6",
   "metadata": {},
   "outputs": [],
   "source": [
    "fi = exp.model_parts()"
   ]
  },
  {
   "cell_type": "markdown",
   "id": "cd7d248a",
   "metadata": {},
   "source": [
    "Przyjrzyjmy się najpierw istotności poszczególnych atrybutów. To dość podstawowa technika badająca globalny wpływ danej cechy na rezultat. Podstawowe podejście zakłada sprawdzenie na ile podorszy się jakość wyników po usunięciu danej cechy."
   ]
  },
  {
   "cell_type": "code",
   "execution_count": null,
   "id": "09f500ae",
   "metadata": {},
   "outputs": [],
   "source": [
    "fi.plot()"
   ]
  },
  {
   "cell_type": "markdown",
   "id": "2682e33a",
   "metadata": {},
   "source": [
    "Kolejna istotna technika to partial dependency plot. Dla danej cechy badamy jak wygląda średni wynik działania modelu dla poszczególnych wartości"
   ]
  },
  {
   "cell_type": "code",
   "execution_count": null,
   "id": "3a20223d",
   "metadata": {
    "scrolled": false
   },
   "outputs": [],
   "source": [
    "exp.model_profile().plot()"
   ]
  },
  {
   "cell_type": "markdown",
   "id": "94a61afa",
   "metadata": {},
   "source": [
    "Podobne wykresy wygenerować można dla pojedyńczego wiersza. Tutaj dla każdej cechy ukazujemy jak zmieni się wynik w zależności od wartości na niej przy założeniu, że wszystkie pozostałe pozostają bez zmian"
   ]
  },
  {
   "cell_type": "code",
   "execution_count": null,
   "id": "b43ed2d2",
   "metadata": {
    "scrolled": false
   },
   "outputs": [],
   "source": [
    "exp.predict_profile(trainX.iloc[[15,80]]).plot()"
   ]
  },
  {
   "cell_type": "markdown",
   "id": "1f7ef147",
   "metadata": {},
   "source": [
    "Wartości SHAP są odpowiednikiem wartości Shapley'a. Szacowany jest wpływ poszczególnych wartości poszczególnych kolumn na wynik predykcji. Odbywa się to poprzez próbkowanie i zastępowanie danej wartości losową z rozkładu występującego w danych i zmierzeniu wpływu na predykcję"
   ]
  },
  {
   "cell_type": "code",
   "execution_count": null,
   "id": "0e417ef7",
   "metadata": {},
   "outputs": [],
   "source": [
    "exp.predict_parts(trainX.iloc[15], type='shap').plot()"
   ]
  },
  {
   "cell_type": "code",
   "execution_count": null,
   "id": "b05a48b5",
   "metadata": {},
   "outputs": [],
   "source": [
    "exp.predict_parts(trainX.iloc[15], type='shap').plot()"
   ]
  },
  {
   "cell_type": "markdown",
   "id": "81dc4fb9",
   "metadata": {},
   "source": [
    "Ponieważ wynik jest oparty na próbkowaniu nie uzyskamy dwóch identycznych wyników pod rzad"
   ]
  },
  {
   "cell_type": "code",
   "execution_count": null,
   "id": "abe24077",
   "metadata": {},
   "outputs": [],
   "source": [
    "exp.predict_parts(trainX.iloc[88], type='shap').plot()"
   ]
  },
  {
   "cell_type": "code",
   "execution_count": null,
   "id": "a9dd9aef",
   "metadata": {},
   "outputs": [],
   "source": [
    "exp.predict_parts(trainX.iloc[88], type='break_down').plot()"
   ]
  },
  {
   "cell_type": "code",
   "execution_count": null,
   "id": "daa295a9",
   "metadata": {},
   "outputs": [],
   "source": [
    "exp.predict_parts(trainX.iloc[88], type='shap').result"
   ]
  },
  {
   "cell_type": "markdown",
   "id": "4d3af9bd",
   "metadata": {},
   "source": [
    "#### Zad\n",
    "Wydziel 3 klasy - tanie, średnie i drogie. Następnie dla każdej z nich znajdź reprezentatywne przykłady i wyjaśnich ich predykcje.\n",
    "\n",
    "Wyobraź sobie zadanie klasyfikacyjne dla klas pies i kot. Wtedy dobrym przykładem byłoby pokazanie na przykład 3 różnych ras psów. Analiza predykcji 5 labradorów nie wniesie zbyt wiele dla zrozumienia modelu."
   ]
  },
  {
   "cell_type": "code",
   "execution_count": null,
   "id": "015c6cef",
   "metadata": {},
   "outputs": [],
   "source": []
  },
  {
   "cell_type": "code",
   "execution_count": null,
   "id": "85fa1740",
   "metadata": {},
   "outputs": [],
   "source": []
  },
  {
   "cell_type": "markdown",
   "id": "d9736904",
   "metadata": {},
   "source": [
    "Inne podejścia stosowane w wyjaśnialności:\n",
    " - LIME - przybliżanie modelu lokalnie modelem liniowym\n",
    " - Anchor - lokalne przybliżenie modelu systemem regułowym\n",
    " - Prototyp - wyjaśnienie predykcji przy użyciu podobnego przykładu z danych treningowych\n",
    " - Counterfactual Explanation - pokazanie zbliżonego przykładu o odmiennej predykcji aby ukazać co musi się zmienić w celu zmiany predykcji np. odrzucony wniosek kredytowy"
   ]
  },
  {
   "cell_type": "markdown",
   "id": "5d7494d7",
   "metadata": {},
   "source": [
    "# Zad\n",
    "\n",
    "- wybierz dowolny zbiór danych\n",
    "- przygotuj raport:\n",
    " - analiza danych, wizualizacja\n",
    " - pipeline przetwarzający dane\n",
    " - model predykcyjny\n",
    " - wyjaśnialność\n",
    " \n",
    "Założenie jest takie, że raport będzie przeglądała osoba, która zamówiła analizę, nie zna się na uczeniu maszynowym, ale rozumie domenę danych "
   ]
  },
  {
   "cell_type": "code",
   "execution_count": null,
   "id": "fdabac1d",
   "metadata": {},
   "outputs": [],
   "source": []
  }
 ],
 "metadata": {
  "kernelspec": {
   "display_name": "Python 3 (ipykernel)",
   "language": "python",
   "name": "python3"
  },
  "language_info": {
   "codemirror_mode": {
    "name": "ipython",
    "version": 3
   },
   "file_extension": ".py",
   "mimetype": "text/x-python",
   "name": "python",
   "nbconvert_exporter": "python",
   "pygments_lexer": "ipython3",
   "version": "3.8.12"
  }
 },
 "nbformat": 4,
 "nbformat_minor": 5
}
